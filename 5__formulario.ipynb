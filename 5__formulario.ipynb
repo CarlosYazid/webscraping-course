{
  "cells": [
    {
      "cell_type": "markdown",
      "id": "b25c8ce0",
      "metadata": {
        "id": "b25c8ce0"
      },
      "source": [
        "# Curso de Web Scraping\n",
        "\n",
        "<img src=\"https://yaelmanuel.com/wp-content/uploads/2021/12/platzi-banner-logo-matematicas.png\" width=\"500px\">\n",
        "\n",
        "---"
      ]
    },
    {
      "cell_type": "markdown",
      "id": "b40acc42",
      "metadata": {
        "id": "b40acc42"
      },
      "source": [
        "## 0) Dependencias"
      ]
    },
    {
      "cell_type": "code",
      "source": [
        "!bash \"/content/setup.sh\""
      ],
      "metadata": {
        "id": "hnWvfHHQXvAJ",
        "outputId": "207fd63f-2300-4c83-d1e3-021feee005eb",
        "colab": {
          "base_uri": "https://localhost:8080/"
        }
      },
      "id": "hnWvfHHQXvAJ",
      "execution_count": 3,
      "outputs": [
        {
          "output_type": "stream",
          "name": "stdout",
          "text": [
            "\u001b[2K   \u001b[90m━━━━━━━━━━━━━━━━━━━━━━━━━━━━━━━━━━━━━━━━\u001b[0m \u001b[32m9.7/9.7 MB\u001b[0m \u001b[31m52.3 MB/s\u001b[0m eta \u001b[36m0:00:00\u001b[0m\n",
            "\u001b[2K   \u001b[90m━━━━━━━━━━━━━━━━━━━━━━━━━━━━━━━━━━━━━━━━\u001b[0m \u001b[32m512.7/512.7 kB\u001b[0m \u001b[31m23.8 MB/s\u001b[0m eta \u001b[36m0:00:00\u001b[0m\n",
            "\u001b[?25h"
          ]
        }
      ]
    },
    {
      "cell_type": "code",
      "execution_count": 4,
      "id": "ce03a549",
      "metadata": {
        "id": "ce03a549"
      },
      "outputs": [],
      "source": [
        "import time\n",
        "from bs4 import BeautifulSoup\n",
        "\n",
        "from selenium import webdriver\n",
        "from selenium.webdriver.chrome.service import Service\n",
        "from selenium.webdriver.chrome.options import Options\n",
        "from selenium.webdriver.common.by import By"
      ]
    },
    {
      "cell_type": "markdown",
      "id": "07618cbe",
      "metadata": {
        "id": "07618cbe"
      },
      "source": [
        "## 1) Configuración del Servicio y Driver"
      ]
    },
    {
      "cell_type": "code",
      "execution_count": 5,
      "id": "b1c07825",
      "metadata": {
        "id": "b1c07825"
      },
      "outputs": [],
      "source": [
        "# Ruta al chromedriver (si no está en el PATH)\n",
        "chrome_path = \"/content/chrome/chrome\"\n",
        "chromedriver_path = \"/content/chromedriver\"\n",
        "\n",
        "# Opcional: configurar opciones\n",
        "options = Options()\n",
        "options.add_argument(\"--headless\")\n",
        "options.add_argument(\"--start-maximized\")  # Pantalla completa\n",
        "options.add_argument(\"--no-sandbox\")\n",
        "options.add_argument(\"--disable-blink-features=AutomationControlled\")  # Menos detectable\n",
        "\n",
        "options.binary_location = chrome_path\n",
        "\n",
        "# Crear el servicio y el driver\n",
        "service = Service(executable_path=chromedriver_path)\n",
        "driver = webdriver.Chrome(service=service, options=options)"
      ]
    },
    {
      "cell_type": "markdown",
      "id": "6341d1aa",
      "metadata": {
        "id": "6341d1aa"
      },
      "source": [
        "## 2) Definir url"
      ]
    },
    {
      "cell_type": "code",
      "execution_count": 6,
      "id": "eeb31898",
      "metadata": {
        "id": "eeb31898"
      },
      "outputs": [],
      "source": [
        "# Ir al sitio\n",
        "url = \"http://quotes.toscrape.com/scroll\"\n",
        "driver.get(url)\n",
        "\n",
        "# Esperar 3 segundos\n",
        "time.sleep(3)"
      ]
    },
    {
      "cell_type": "markdown",
      "id": "635ef5b3",
      "metadata": {
        "id": "635ef5b3"
      },
      "source": [
        "## 3) Implementación"
      ]
    },
    {
      "cell_type": "markdown",
      "id": "ca6a203a",
      "metadata": {
        "id": "ca6a203a"
      },
      "source": [
        "**Hacer clic en el enlace \"Login\"**"
      ]
    },
    {
      "cell_type": "code",
      "execution_count": 7,
      "id": "330c0c5c",
      "metadata": {
        "id": "330c0c5c"
      },
      "outputs": [],
      "source": [
        "login_link = driver.find_element(By.LINK_TEXT, \"Login\")\n",
        "login_link.click()\n",
        "time.sleep(2)"
      ]
    },
    {
      "cell_type": "markdown",
      "id": "f73fd008",
      "metadata": {
        "id": "f73fd008"
      },
      "source": [
        "**Llenar los campos de usuario y contraseña**"
      ]
    },
    {
      "cell_type": "code",
      "execution_count": 8,
      "id": "d1485a23",
      "metadata": {
        "id": "d1485a23"
      },
      "outputs": [],
      "source": [
        "driver.find_element(By.ID, \"username\").send_keys(\"platzi-admin\")\n",
        "driver.find_element(By.ID, \"password\").send_keys(\"12345\")"
      ]
    },
    {
      "cell_type": "markdown",
      "id": "f9e11176",
      "metadata": {
        "id": "f9e11176"
      },
      "source": [
        "**Hacer clic en el botón de Login**"
      ]
    },
    {
      "cell_type": "code",
      "execution_count": 9,
      "id": "a45e9e33",
      "metadata": {
        "id": "a45e9e33"
      },
      "outputs": [],
      "source": [
        "driver.find_element(By.CSS_SELECTOR, \"input[type='submit']\").click()\n",
        "time.sleep(5)"
      ]
    },
    {
      "cell_type": "markdown",
      "id": "7de2c13f",
      "metadata": {
        "id": "7de2c13f"
      },
      "source": [
        "**Extraer los Top Ten Tags usando BeautifulSoup**"
      ]
    },
    {
      "cell_type": "code",
      "execution_count": 10,
      "id": "7de13288",
      "metadata": {
        "id": "7de13288",
        "outputId": "0c636b6e-b9a6-4bd3-a92b-7994036a9d06",
        "colab": {
          "base_uri": "https://localhost:8080/"
        }
      },
      "outputs": [
        {
          "output_type": "stream",
          "name": "stdout",
          "text": [
            "Top Ten Tags:\n",
            "- love\n",
            "- inspirational\n",
            "- life\n",
            "- humor\n",
            "- books\n",
            "- reading\n",
            "- friendship\n",
            "- friends\n",
            "- truth\n",
            "- simile\n"
          ]
        }
      ],
      "source": [
        "soup = BeautifulSoup(driver.page_source, \"html.parser\")\n",
        "tags_box = soup.find(\"div\", class_=\"tags-box\")\n",
        "tags = [tag.get_text(strip=True) for tag in tags_box.find_all(\"a\", class_=\"tag\")]\n",
        "\n",
        "# Imprimir los resultados\n",
        "print(\"Top Ten Tags:\")\n",
        "for tag in tags:\n",
        "    print(\"-\", tag)"
      ]
    },
    {
      "cell_type": "markdown",
      "id": "97471956",
      "metadata": {
        "id": "97471956"
      },
      "source": [
        "**Cerrar el navegador**"
      ]
    },
    {
      "cell_type": "code",
      "execution_count": 11,
      "id": "df44ba96",
      "metadata": {
        "id": "df44ba96"
      },
      "outputs": [],
      "source": [
        "driver.quit()"
      ]
    }
  ],
  "metadata": {
    "kernelspec": {
      "display_name": "Python 3",
      "language": "python",
      "name": "python3"
    },
    "language_info": {
      "codemirror_mode": {
        "name": "ipython",
        "version": 3
      },
      "file_extension": ".py",
      "mimetype": "text/x-python",
      "name": "python",
      "nbconvert_exporter": "python",
      "pygments_lexer": "ipython3",
      "version": "3.10.0"
    },
    "colab": {
      "provenance": []
    }
  },
  "nbformat": 4,
  "nbformat_minor": 5
}