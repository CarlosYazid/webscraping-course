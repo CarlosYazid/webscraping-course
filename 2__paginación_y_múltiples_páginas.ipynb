{
  "cells": [
    {
      "cell_type": "markdown",
      "id": "c1590f8a",
      "metadata": {
        "id": "c1590f8a"
      },
      "source": [
        "# Curso de Web Scraping\n",
        "\n",
        "<img src=\"https://yaelmanuel.com/wp-content/uploads/2021/12/platzi-banner-logo-matematicas.png\" width=\"500px\">\n",
        "\n",
        "---"
      ]
    },
    {
      "cell_type": "markdown",
      "id": "3783f9cb",
      "metadata": {
        "id": "3783f9cb"
      },
      "source": [
        "## 0) Dependencias"
      ]
    },
    {
      "cell_type": "code",
      "execution_count": 1,
      "id": "cbb06dab",
      "metadata": {
        "id": "cbb06dab"
      },
      "outputs": [],
      "source": [
        "import requests\n",
        "from bs4 import BeautifulSoup\n",
        "\n",
        "import csv\n",
        "import json\n",
        "\n",
        "import time\n",
        "import random"
      ]
    },
    {
      "cell_type": "markdown",
      "id": "ea1ef7c4",
      "metadata": {
        "id": "ea1ef7c4"
      },
      "source": [
        "## 1) Paginación y scraping de múltiples páginas"
      ]
    },
    {
      "cell_type": "code",
      "execution_count": 2,
      "id": "5b910d12",
      "metadata": {
        "id": "5b910d12"
      },
      "outputs": [],
      "source": [
        "BASE_URL = \"http://books.toscrape.com/\"\n",
        "CATALOGUE = \"catalogue/category/books_1/\"\n",
        "PAGE = \"page-{}.html\""
      ]
    },
    {
      "cell_type": "code",
      "execution_count": 3,
      "id": "fcd37c4f",
      "metadata": {
        "id": "fcd37c4f",
        "outputId": "59afb201-4d9e-4424-884c-34633f6158c1",
        "colab": {
          "base_uri": "https://localhost:8080/"
        }
      },
      "outputs": [
        {
          "output_type": "stream",
          "name": "stdout",
          "text": [
            "Página 1 procesada.\n",
            "Página 2 procesada.\n",
            "Página 3 procesada.\n",
            "Página 4 procesada.\n",
            "Página 5 procesada.\n",
            "Página 6 procesada.\n",
            "Página 7 procesada.\n",
            "Página 8 procesada.\n",
            "Página 9 procesada.\n",
            "Página 10 procesada.\n",
            "Página 11 procesada.\n",
            "Página 12 procesada.\n",
            "Página 13 procesada.\n",
            "Página 14 procesada.\n",
            "Página 15 procesada.\n",
            "Página 16 procesada.\n",
            "Página 17 procesada.\n",
            "Página 18 procesada.\n",
            "Página 19 procesada.\n",
            "Página 20 procesada.\n",
            "Página 21 procesada.\n",
            "Página 22 procesada.\n",
            "Página 23 procesada.\n",
            "Página 24 procesada.\n",
            "Página 25 procesada.\n",
            "Página 26 procesada.\n",
            "Página 27 procesada.\n",
            "Página 28 procesada.\n",
            "Página 29 procesada.\n",
            "Página 30 procesada.\n",
            "Página 31 procesada.\n",
            "Página 32 procesada.\n",
            "Página 33 procesada.\n",
            "Página 34 procesada.\n",
            "Página 35 procesada.\n",
            "Página 36 procesada.\n",
            "Página 37 procesada.\n",
            "Página 38 procesada.\n",
            "Página 39 procesada.\n",
            "Página 40 procesada.\n",
            "Página 41 procesada.\n",
            "Página 42 procesada.\n",
            "Página 43 procesada.\n",
            "Página 44 procesada.\n",
            "Página 45 procesada.\n",
            "Página 46 procesada.\n",
            "Página 47 procesada.\n",
            "Página 48 procesada.\n",
            "Página 49 procesada.\n",
            "Página 50 procesada.\n"
          ]
        }
      ],
      "source": [
        "product_list = []\n",
        "\n",
        "URL_BOOKS = BASE_URL + CATALOGUE + PAGE\n",
        "\n",
        "def count_stars(stars):\n",
        "  if stars == \"One\":\n",
        "    return 1\n",
        "  elif stars == \"Two\":\n",
        "    return 2\n",
        "  elif stars == \"Three\":\n",
        "    return 3\n",
        "  elif stars == \"Four\":\n",
        "    return 4\n",
        "  elif stars == \"Five\":\n",
        "    return 5\n",
        "  else:\n",
        "    return 0\n",
        "\n",
        "# Recorrer las primeras 3 páginas\n",
        "for page in range(1, 51):\n",
        "    url = URL_BOOKS.format(page)\n",
        "    response = requests.get(url)\n",
        "    soup = BeautifulSoup(response.text, \"html.parser\")\n",
        "    products = soup.select(\"article.product_pod\")\n",
        "\n",
        "    for product in products:\n",
        "        title = product.find(\"h3\").find(\"a\")[\"title\"]\n",
        "        price = product.find(\"p\", class_=\"price_color\").get_text()\n",
        "        image_rel = product.find(\"div\", class_=\"image_container\").find(\"img\")[\"src\"]\n",
        "        image_url = BASE_URL + image_rel.replace(\"../\", \"\")\n",
        "        stars = count_stars(product.find(\"p\")['class'][1])\n",
        "        in_stock = product.find(\"p\", class_=\"instock\").get_text(strip=True)\n",
        "\n",
        "        if in_stock == \"In stock\":\n",
        "          in_stock = 1\n",
        "        else:\n",
        "          in_stock = 0\n",
        "\n",
        "        product_list.append({\n",
        "            \"title\": title,\n",
        "            \"price\": price,\n",
        "            \"image_url\": image_url,\n",
        "            \"starts\": stars,\n",
        "            \"in_stock\": in_stock\n",
        "            })\n",
        "\n",
        "    # Espera breve entre páginas para simular navegación real\n",
        "    time.sleep(1)\n",
        "    print(f\"Página {page} procesada.\")"
      ]
    },
    {
      "cell_type": "code",
      "source": [
        "!touch 'resultados/productos_multi.csv'"
      ],
      "metadata": {
        "id": "ZKKNwFUg9Hl9"
      },
      "id": "ZKKNwFUg9Hl9",
      "execution_count": 5,
      "outputs": []
    },
    {
      "cell_type": "code",
      "execution_count": 7,
      "id": "77e61d27",
      "metadata": {
        "id": "77e61d27",
        "outputId": "36b06ae1-d13d-4dde-febb-f4aebef8e11d",
        "colab": {
          "base_uri": "https://localhost:8080/"
        }
      },
      "outputs": [
        {
          "output_type": "stream",
          "name": "stdout",
          "text": [
            "Scraping multipágina completado: 1000 productos guardados en productos_multi.csv\n"
          ]
        }
      ],
      "source": [
        "with open(\"resultados/productos_multi.csv\", \"w\", newline=\"\", encoding=\"utf-8\") as f:\n",
        "    writer = csv.DictWriter(f, fieldnames=[\"name\", \"price\", \"image_url\",\"starts\", \"in_stock\"])\n",
        "    writer.writeheader()\n",
        "    writer.writerows(product_list)\n",
        "\n",
        "print(f\"Scraping multipágina completado: {len(product_list)} productos guardados en productos_multi.csv\")"
      ]
    },
    {
      "cell_type": "markdown",
      "id": "4544f224",
      "metadata": {
        "id": "4544f224"
      },
      "source": [
        "## 2) Manejando errores y excepciones comunes"
      ]
    },
    {
      "cell_type": "code",
      "execution_count": 8,
      "id": "ffff9ab8",
      "metadata": {
        "colab": {
          "base_uri": "https://localhost:8080/"
        },
        "id": "ffff9ab8",
        "outputId": "9107ee0c-3d5e-4fb6-efc8-a401b414b97c"
      },
      "outputs": [
        {
          "output_type": "stream",
          "name": "stdout",
          "text": [
            "Página 1 procesada.\n",
            "Página 2 procesada.\n",
            "Página 3 procesada.\n",
            "Página 4 procesada.\n",
            "Página 5 procesada.\n",
            "Página 6 procesada.\n",
            "Página 7 procesada.\n",
            "Página 8 procesada.\n",
            "Página 9 procesada.\n",
            "Página 10 procesada.\n",
            "Página 11 procesada.\n",
            "Página 12 procesada.\n",
            "Página 13 procesada.\n",
            "Página 14 procesada.\n",
            "Página 15 procesada.\n",
            "Página 16 procesada.\n",
            "Página 17 procesada.\n",
            "Página 18 procesada.\n",
            "Página 19 procesada.\n",
            "Página 20 procesada.\n",
            "Página 21 procesada.\n",
            "Página 22 procesada.\n",
            "Página 23 procesada.\n",
            "Página 24 procesada.\n",
            "Página 25 procesada.\n",
            "Página 26 procesada.\n",
            "Página 27 procesada.\n",
            "Página 28 procesada.\n",
            "Página 29 procesada.\n",
            "Página 30 procesada.\n",
            "Página 31 procesada.\n",
            "Página 32 procesada.\n",
            "Página 33 procesada.\n",
            "Página 34 procesada.\n",
            "Página 35 procesada.\n",
            "Página 36 procesada.\n",
            "Página 37 procesada.\n",
            "Página 38 procesada.\n",
            "Página 39 procesada.\n",
            "Página 40 procesada.\n",
            "Página 41 procesada.\n",
            "Página 42 procesada.\n",
            "Página 43 procesada.\n",
            "Página 44 procesada.\n",
            "Página 45 procesada.\n",
            "Página 46 procesada.\n",
            "Página 47 procesada.\n",
            "Página 48 procesada.\n",
            "Página 49 procesada.\n",
            "Página 50 procesada.\n",
            "Error en la página 51: 404 Client Error: Not Found for url: http://books.toscrape.com/catalogue/category/books_1/page-51.html\n",
            "Error en la página 52: 404 Client Error: Not Found for url: http://books.toscrape.com/catalogue/category/books_1/page-52.html\n",
            "Error en la página 53: 404 Client Error: Not Found for url: http://books.toscrape.com/catalogue/category/books_1/page-53.html\n",
            "Error en la página 54: 404 Client Error: Not Found for url: http://books.toscrape.com/catalogue/category/books_1/page-54.html\n"
          ]
        }
      ],
      "source": [
        "product_list = []\n",
        "\n",
        "for page in range(1, 55):  # Probar con 6 páginas\n",
        "    url = URL_BOOKS.format(page)\n",
        "    try:\n",
        "        response = requests.get(url)\n",
        "        response.raise_for_status()  # Lanza error para códigos 400 o 500\n",
        "        soup = BeautifulSoup(response.text, \"html.parser\")\n",
        "        products = soup.select(\"article.product_pod\")\n",
        "\n",
        "    except requests.RequestException as e:\n",
        "        print(f\"Error en la página {page}: {e}\")\n",
        "        continue  # Sigue con la siguiente iteración\n",
        "\n",
        "    for product in products:\n",
        "      try:\n",
        "        title = product.find(\"h3\").find(\"a\")[\"title\"]\n",
        "        price = product.find(\"p\", class_=\"price_color\").get_text()\n",
        "        image_rel = product.find(\"div\", class_=\"image_container\").find(\"img\")[\"src\"]\n",
        "        image_url = BASE_URL + image_rel.replace(\"../\", \"\")\n",
        "        stars = count_stars(product.find(\"p\")['class'][1])\n",
        "        in_stock = product.find(\"p\", class_=\"instock\").get_text(strip=True)\n",
        "\n",
        "        if in_stock == \"In stock\":\n",
        "          in_stock = 1\n",
        "        else:\n",
        "          in_stock = 0\n",
        "\n",
        "        product_list.append({\n",
        "            \"title\": title,\n",
        "            \"price\": price,\n",
        "            \"image_url\": image_url,\n",
        "            \"starts\": stars,\n",
        "            \"in_stock\": in_stock\n",
        "            })\n",
        "      except Exception as ex:\n",
        "        print(\"Error extrayendo datos de un producto:\", ex)\n",
        "\n",
        "    time.sleep(1)\n",
        "    print(f\"Página {page} procesada.\")"
      ]
    },
    {
      "cell_type": "code",
      "execution_count": 9,
      "id": "7d539d58",
      "metadata": {
        "id": "7d539d58",
        "outputId": "9d98e3eb-13a8-4a1e-df89-033a675fc694",
        "colab": {
          "base_uri": "https://localhost:8080/"
        }
      },
      "outputs": [
        {
          "output_type": "stream",
          "name": "stdout",
          "text": [
            "Scraping completado con manejo de errores: 1000 productos guardados en productos_con_errores.csv\n"
          ]
        }
      ],
      "source": [
        "with open(\"resultados/productos_con_errores.csv\", \"w\", newline=\"\", encoding=\"utf-8\") as f:\n",
        "    writer = csv.DictWriter(f, fieldnames=[\"title\", \"price\", \"image_url\", \"starts\",\"in_stock\"])\n",
        "    writer.writeheader()\n",
        "    writer.writerows(product_list)\n",
        "\n",
        "print(f\"Scraping completado con manejo de errores: {len(product_list)} productos guardados en productos_con_errores.csv\")"
      ]
    },
    {
      "cell_type": "markdown",
      "id": "54ea3c26",
      "metadata": {
        "id": "54ea3c26"
      },
      "source": [
        "## 3) Buenas prácticas: headers, tiempos y ética del scraping"
      ]
    },
    {
      "cell_type": "markdown",
      "id": "6f8aeaff",
      "metadata": {
        "id": "6f8aeaff"
      },
      "source": [
        "**📜 ¿Qué es robots.txt?**\n",
        "\n",
        "Es un archivo que los sitios web colocan en su raíz (https://sitio.com/robots.txt) para indicar qué **partes del sitio pueden o no ser exploradas por bots**. Aunque no es una \"ley\" (no lo impide técnicamente), es una norma ética respetarla."
      ]
    },
    {
      "cell_type": "code",
      "execution_count": 10,
      "id": "9264eced",
      "metadata": {
        "id": "9264eced"
      },
      "outputs": [],
      "source": [
        "# Definir una cabecera\n",
        "headers = {\n",
        "    \"User-Agent\": \"Mozilla/5.0 (X11; Linux x86_64) AppleWebKit/537.36 (KHTML, like Gecko) Chrome/115.0.0.0 Safari/537.36\"\n",
        "}"
      ]
    },
    {
      "cell_type": "code",
      "execution_count": 12,
      "metadata": {
        "outputId": "223ed1d7-625e-4127-fc21-9bda22d4dbc8",
        "colab": {
          "base_uri": "https://localhost:8080/"
        },
        "id": "BSrpKE_zGtHu"
      },
      "outputs": [
        {
          "output_type": "stream",
          "name": "stdout",
          "text": [
            "Página 1 procesada con una pausa de 1.64 segundos.\n",
            "Página 2 procesada con una pausa de 1.94 segundos.\n",
            "Página 3 procesada con una pausa de 1.04 segundos.\n",
            "Página 4 procesada con una pausa de 2.61 segundos.\n",
            "Página 5 procesada con una pausa de 2.11 segundos.\n",
            "Página 6 procesada con una pausa de 1.17 segundos.\n",
            "Página 7 procesada con una pausa de 2.94 segundos.\n",
            "Página 8 procesada con una pausa de 1.47 segundos.\n",
            "Página 9 procesada con una pausa de 1.66 segundos.\n",
            "Página 10 procesada con una pausa de 1.86 segundos.\n",
            "Página 11 procesada con una pausa de 2.02 segundos.\n",
            "Página 12 procesada con una pausa de 1.19 segundos.\n",
            "Página 13 procesada con una pausa de 2.81 segundos.\n",
            "Página 14 procesada con una pausa de 1.62 segundos.\n",
            "Página 15 procesada con una pausa de 1.01 segundos.\n",
            "Página 16 procesada con una pausa de 2.07 segundos.\n",
            "Página 17 procesada con una pausa de 1.78 segundos.\n",
            "Página 18 procesada con una pausa de 2.21 segundos.\n",
            "Página 19 procesada con una pausa de 2.54 segundos.\n",
            "Página 20 procesada con una pausa de 1.57 segundos.\n",
            "Página 21 procesada con una pausa de 1.89 segundos.\n",
            "Página 22 procesada con una pausa de 1.39 segundos.\n",
            "Página 23 procesada con una pausa de 2.27 segundos.\n",
            "Página 24 procesada con una pausa de 2.26 segundos.\n",
            "Página 25 procesada con una pausa de 1.29 segundos.\n",
            "Página 26 procesada con una pausa de 1.74 segundos.\n",
            "Página 27 procesada con una pausa de 2.37 segundos.\n",
            "Página 28 procesada con una pausa de 1.61 segundos.\n",
            "Página 29 procesada con una pausa de 2.61 segundos.\n",
            "Página 30 procesada con una pausa de 1.41 segundos.\n",
            "Página 31 procesada con una pausa de 1.68 segundos.\n",
            "Página 32 procesada con una pausa de 2.33 segundos.\n",
            "Página 33 procesada con una pausa de 2.49 segundos.\n",
            "Página 34 procesada con una pausa de 2.50 segundos.\n",
            "Página 35 procesada con una pausa de 2.80 segundos.\n",
            "Página 36 procesada con una pausa de 1.37 segundos.\n",
            "Página 37 procesada con una pausa de 1.01 segundos.\n",
            "Página 38 procesada con una pausa de 2.02 segundos.\n",
            "Página 39 procesada con una pausa de 2.36 segundos.\n",
            "Página 40 procesada con una pausa de 1.14 segundos.\n",
            "Página 41 procesada con una pausa de 1.62 segundos.\n",
            "Página 42 procesada con una pausa de 1.89 segundos.\n",
            "Página 43 procesada con una pausa de 2.65 segundos.\n",
            "Página 44 procesada con una pausa de 2.82 segundos.\n",
            "Página 45 procesada con una pausa de 2.10 segundos.\n",
            "Página 46 procesada con una pausa de 2.34 segundos.\n",
            "Página 47 procesada con una pausa de 2.87 segundos.\n",
            "Página 48 procesada con una pausa de 2.91 segundos.\n",
            "Página 49 procesada con una pausa de 2.54 segundos.\n",
            "Página 50 procesada con una pausa de 1.90 segundos.\n",
            "Error en la página 51: 404 Client Error: Not Found for url: http://books.toscrape.com/catalogue/category/books_1/page-51.html\n",
            "Error en la página 52: 404 Client Error: Not Found for url: http://books.toscrape.com/catalogue/category/books_1/page-52.html\n",
            "Error en la página 53: 404 Client Error: Not Found for url: http://books.toscrape.com/catalogue/category/books_1/page-53.html\n",
            "Error en la página 54: 404 Client Error: Not Found for url: http://books.toscrape.com/catalogue/category/books_1/page-54.html\n"
          ]
        }
      ],
      "source": [
        "product_list = []\n",
        "\n",
        "for page in range(1, 55):  # Probar con 6 páginas\n",
        "    url = URL_BOOKS.format(page)\n",
        "    try:\n",
        "        response = requests.get(url, headers=headers)\n",
        "        response.raise_for_status()  # Lanza error para códigos 400 o 500\n",
        "        soup = BeautifulSoup(response.text, \"html.parser\")\n",
        "        products = soup.select(\"article.product_pod\")\n",
        "\n",
        "    except requests.RequestException as e:\n",
        "        print(f\"Error en la página {page}: {e}\")\n",
        "        continue  # Sigue con la siguiente iteración\n",
        "\n",
        "    for product in products:\n",
        "      try:\n",
        "        title = product.find(\"h3\").find(\"a\")[\"title\"]\n",
        "        price = product.find(\"p\", class_=\"price_color\").get_text()\n",
        "        image_rel = product.find(\"div\", class_=\"image_container\").find(\"img\")[\"src\"]\n",
        "        image_url = BASE_URL + image_rel.replace(\"../\", \"\")\n",
        "        stars = count_stars(product.find(\"p\")['class'][1])\n",
        "        in_stock = product.find(\"p\", class_=\"instock\").get_text(strip=True)\n",
        "\n",
        "        if in_stock == \"In stock\":\n",
        "          in_stock = 1\n",
        "        else:\n",
        "          in_stock = 0\n",
        "\n",
        "        product_list.append({\n",
        "            \"title\": title,\n",
        "            \"price\": price,\n",
        "            \"image_url\": image_url,\n",
        "            \"starts\": stars,\n",
        "            \"in_stock\": in_stock\n",
        "            })\n",
        "      except Exception as ex:\n",
        "        print(\"Error extrayendo datos de un producto:\", ex)\n",
        "\n",
        "    # Pausa aleatoria para imitar comportamiento humano\n",
        "    sleep_time = random.uniform(1, 3)\n",
        "    time.sleep(sleep_time)\n",
        "    print(f\"Página {page} procesada con una pausa de {sleep_time:.2f} segundos.\")"
      ],
      "id": "BSrpKE_zGtHu"
    },
    {
      "cell_type": "markdown",
      "id": "e623dded",
      "metadata": {
        "id": "e623dded"
      },
      "source": [
        "## 4) Guardar como CSV y JSON"
      ]
    },
    {
      "cell_type": "markdown",
      "id": "964e695d",
      "metadata": {
        "id": "964e695d"
      },
      "source": [
        "### **Guardar en CSV**"
      ]
    },
    {
      "cell_type": "code",
      "execution_count": 13,
      "id": "11ae87c0",
      "metadata": {
        "id": "11ae87c0",
        "outputId": "4ec4573c-81a2-4f1a-f533-3506cd6705fe",
        "colab": {
          "base_uri": "https://localhost:8080/"
        }
      },
      "outputs": [
        {
          "output_type": "stream",
          "name": "stdout",
          "text": [
            "Scraping ético completado: 1000 productos guardados en productos_eticos.csv\n"
          ]
        }
      ],
      "source": [
        "with open(\"resultados/productos_eticos.csv\", \"w\", newline=\"\", encoding=\"utf-8\") as f:\n",
        "    writer = csv.DictWriter(f, fieldnames=[\"title\", \"price\", \"image_url\",\"starts\",\"in_stock\"])\n",
        "    writer.writeheader()\n",
        "    writer.writerows(product_list)\n",
        "\n",
        "print(f\"Scraping ético completado: {len(product_list)} productos guardados en productos_eticos.csv\")"
      ]
    },
    {
      "cell_type": "markdown",
      "id": "689d5435",
      "metadata": {
        "id": "689d5435"
      },
      "source": [
        "### **Guardar en JSON**"
      ]
    },
    {
      "cell_type": "code",
      "execution_count": 14,
      "id": "e2e39587",
      "metadata": {
        "id": "e2e39587",
        "outputId": "d55e56f3-403e-45f0-914e-35767edf57f6",
        "colab": {
          "base_uri": "https://localhost:8080/"
        }
      },
      "outputs": [
        {
          "output_type": "stream",
          "name": "stdout",
          "text": [
            "Datos exportados: 1000 productos en productos_final.json\n"
          ]
        }
      ],
      "source": [
        "with open(\"resultados/productos_final.json\", \"w\", encoding=\"utf-8\") as jsonfile:\n",
        "    json.dump(product_list, jsonfile, indent=4, ensure_ascii=False)\n",
        "\n",
        "print(f\"Datos exportados: {len(product_list)} productos en productos_final.json\")"
      ]
    },
    {
      "cell_type": "markdown",
      "id": "132ab8ec",
      "metadata": {
        "id": "132ab8ec"
      },
      "source": [
        "### **Guardar en un Excel**"
      ]
    },
    {
      "cell_type": "code",
      "execution_count": 15,
      "id": "80db5a11",
      "metadata": {
        "id": "80db5a11",
        "outputId": "aa83e653-1df4-4c1c-e9d6-8c0f8c449b8d",
        "colab": {
          "base_uri": "https://localhost:8080/"
        }
      },
      "outputs": [
        {
          "output_type": "stream",
          "name": "stdout",
          "text": [
            "Requirement already satisfied: pandas in /usr/local/lib/python3.12/dist-packages (2.2.2)\n",
            "Requirement already satisfied: openpyxl in /usr/local/lib/python3.12/dist-packages (3.1.5)\n",
            "Requirement already satisfied: numpy>=1.26.0 in /usr/local/lib/python3.12/dist-packages (from pandas) (2.0.2)\n",
            "Requirement already satisfied: python-dateutil>=2.8.2 in /usr/local/lib/python3.12/dist-packages (from pandas) (2.9.0.post0)\n",
            "Requirement already satisfied: pytz>=2020.1 in /usr/local/lib/python3.12/dist-packages (from pandas) (2025.2)\n",
            "Requirement already satisfied: tzdata>=2022.7 in /usr/local/lib/python3.12/dist-packages (from pandas) (2025.2)\n",
            "Requirement already satisfied: et-xmlfile in /usr/local/lib/python3.12/dist-packages (from openpyxl) (2.0.0)\n",
            "Requirement already satisfied: six>=1.5 in /usr/local/lib/python3.12/dist-packages (from python-dateutil>=2.8.2->pandas) (1.17.0)\n"
          ]
        }
      ],
      "source": [
        "!pip install pandas openpyxl"
      ]
    },
    {
      "cell_type": "code",
      "execution_count": 16,
      "id": "f20ea065",
      "metadata": {
        "id": "f20ea065"
      },
      "outputs": [],
      "source": [
        "import pandas as pd"
      ]
    },
    {
      "cell_type": "code",
      "execution_count": 17,
      "id": "c3bf1a1b",
      "metadata": {
        "id": "c3bf1a1b",
        "outputId": "0db5ba1a-f342-4fe9-f0b2-f829e87d69f9",
        "colab": {
          "base_uri": "https://localhost:8080/"
        }
      },
      "outputs": [
        {
          "output_type": "stream",
          "name": "stdout",
          "text": [
            "Scraping ético completado: 1000 productos guardados en productos_eticos.xlsx\n"
          ]
        }
      ],
      "source": [
        "# Convertir en Excel\n",
        "df = pd.DataFrame(product_list)\n",
        "\n",
        "# Guardar como archivo Excel\n",
        "df.to_excel(\"resultados/productos_eticos.xlsx\", index=False)\n",
        "\n",
        "print(f\"Scraping ético completado: {len(product_list)} productos guardados en productos_eticos.xlsx\")"
      ]
    },
    {
      "cell_type": "markdown",
      "id": "736adcdc",
      "metadata": {
        "id": "736adcdc"
      },
      "source": [
        "### **Guardar en un Google Form**"
      ]
    },
    {
      "cell_type": "code",
      "execution_count": null,
      "id": "ff96c16e",
      "metadata": {
        "id": "ff96c16e"
      },
      "outputs": [],
      "source": [
        "import requests\n",
        "import time"
      ]
    },
    {
      "cell_type": "markdown",
      "id": "06261d39",
      "metadata": {
        "id": "06261d39"
      },
      "source": [
        "Ejemplo de la estructura de URL de un formulario:\n",
        "<br>https://docs.google.com/forms/d/e/1FAIpQLSfwOqkiwDrLLMyi8-YllxysuERDhsaXsu6oo1398y5b4Vl85A/viewform?usp=pp_url&entry.1649230915=Pinocho&entry.80026608=1500&entry.1487693205=www.pinocho.com"
      ]
    },
    {
      "cell_type": "code",
      "execution_count": null,
      "id": "9cf4cec6",
      "metadata": {
        "id": "9cf4cec6",
        "outputId": "a24e8e87-f005-4296-b13f-d648b317292f"
      },
      "outputs": [
        {
          "name": "stdout",
          "output_type": "stream",
          "text": [
            "✅ Producto 1 enviado: A Light in the Attic\n",
            "✅ Producto 2 enviado: Tipping the Velvet\n",
            "✅ Producto 3 enviado: Soumission\n",
            "✅ Producto 4 enviado: Sharp Objects\n",
            "✅ Producto 5 enviado: Sapiens: A Brief History of Humankind\n"
          ]
        }
      ],
      "source": [
        "# URL del formulario\n",
        "url = \"https://docs.google.com/forms/d/e/xxx/formResponse\"\n",
        "\n",
        "# Encabezados para evitar error 401\n",
        "headers = {\n",
        "    \"User-Agent\": \"Mozilla/5.0 (X11; Linux x86_64) AppleWebKit/537.36 (KHTML, like Gecko) Chrome/89.0.4389.82 Safari/537.36\",\n",
        "    \"Referer\": \"https://docs.google.com/forms/d/e/xxx/viewform\"\n",
        "}\n",
        "\n",
        "# Recorrer y enviar cada producto\n",
        "for i, product in enumerate(product_list[0:5], start=1):\n",
        "    payload = {\n",
        "        \"entry.xxx\": product[\"title\"],        # campo 1: título\n",
        "        \"entry.xxx\": product[\"price\"],       # campo 2: precio\n",
        "        \"entry.xxx\": product[\"image_url\"]    # campo 3: imagen\n",
        "    }\n",
        "\n",
        "    response = requests.post(url, data=payload, headers=headers)\n",
        "\n",
        "    if response.status_code == 200:\n",
        "        print(f\"✅ Producto {i} enviado: {product['title']}\")\n",
        "    else:\n",
        "        print(f\"❌ Error al enviar producto {i} - Código: {response.status_code}\")\n",
        "\n",
        "    time.sleep(1)  # espera 1 segundo entre envíos para evitar bloqueos"
      ]
    }
  ],
  "metadata": {
    "kernelspec": {
      "display_name": "Python 3",
      "language": "python",
      "name": "python3"
    },
    "language_info": {
      "codemirror_mode": {
        "name": "ipython",
        "version": 3
      },
      "file_extension": ".py",
      "mimetype": "text/x-python",
      "name": "python",
      "nbconvert_exporter": "python",
      "pygments_lexer": "ipython3",
      "version": "3.10.0"
    },
    "colab": {
      "provenance": []
    }
  },
  "nbformat": 4,
  "nbformat_minor": 5
}