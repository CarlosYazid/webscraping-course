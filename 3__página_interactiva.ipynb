{
  "cells": [
    {
      "cell_type": "markdown",
      "id": "7628aafd",
      "metadata": {
        "id": "7628aafd"
      },
      "source": [
        "# Curso de Web Scraping\n",
        "\n",
        "<img src=\"https://yaelmanuel.com/wp-content/uploads/2021/12/platzi-banner-logo-matematicas.png\" width=\"500px\">\n",
        "\n",
        "---"
      ]
    },
    {
      "cell_type": "markdown",
      "id": "46af49c3",
      "metadata": {
        "id": "46af49c3"
      },
      "source": [
        "## 0) ¿Página Estática?"
      ]
    },
    {
      "cell_type": "code",
      "execution_count": 9,
      "id": "2bd25dca",
      "metadata": {
        "id": "2bd25dca"
      },
      "outputs": [],
      "source": [
        "import requests"
      ]
    },
    {
      "cell_type": "code",
      "execution_count": 10,
      "id": "6a207bc8",
      "metadata": {
        "id": "6a207bc8"
      },
      "outputs": [],
      "source": [
        "url = \"http://quotes.toscrape.com/scroll\"\n",
        "website = requests.get(url)"
      ]
    },
    {
      "cell_type": "code",
      "execution_count": 11,
      "id": "bef98f93",
      "metadata": {
        "colab": {
          "base_uri": "https://localhost:8080/"
        },
        "id": "bef98f93",
        "outputId": "83a75eac-347a-43e5-921c-57c82b8845cf"
      },
      "outputs": [
        {
          "output_type": "stream",
          "name": "stdout",
          "text": [
            "<!DOCTYPE html>\n",
            "<html lang=\"en\">\n",
            "<head>\n",
            "\t<meta charset=\"UTF-8\">\n",
            "\t<title>Quotes to Scrape</title>\n",
            "    <link rel=\"stylesheet\" href=\"/static/bootstrap.min.css\">\n",
            "    <link rel=\"stylesheet\" href=\"/static/main.css\">\n",
            "    \n",
            "    \n",
            "</head>\n",
            "<body>\n",
            "    <div class=\"container\">\n",
            "        <div class=\"row header-box\">\n",
            "            <div class=\"col-md-8\">\n",
            "                <h1>\n",
            "                    <a href=\"/\" style=\"text-decoration: none\">Quotes to Scrape</a>\n",
            "                </h1>\n",
            "            </div>\n",
            "            <div class=\"col-md-4\">\n",
            "                <p>\n",
            "                \n",
            "                    <a href=\"/login\">Login</a>\n",
            "                \n",
            "                </p>\n",
            "            </div>\n",
            "        </div>\n",
            "    \n",
            "<div class=\"row\">\n",
            "    <div class=\"col-md-8\">\n",
            "        <div class=\"quotes\"></div>\n",
            "    </div>\n",
            "</div>\n",
            "<div id=\"loading\" style=\"background-color: #eeeecc\"><h5>Loading...</h5></div>\n",
            "<script src=\"/static/jquery.js\"></script>\n",
            "<script>\n",
            "    $(function(){\n",
            "        var page = 1, tag = null, hasNextPage = true;\n",
            "        function appendQuotes(quotes) {\n",
            "            var $quotes = $('.quotes');\n",
            "            var html = $.map(quotes, function(d){\n",
            "                var tags = $.map(d['tags'], function(t) {\n",
            "                    return \"<a class='tag'>\" + t + \"</a>\";\n",
            "                }).join(\" \");\n",
            "                return \"<div class='quote'><span class='text'>\" + d['text'] + \"</span><span>by <small class='author'>\" + d['author']['name'] + \"</small></span><div class='tags'>Tags: \" + tags + \"</div></div>\";\n",
            "            });\n",
            "\n",
            "            $quotes.append(html);\n",
            "        }\n",
            "\n",
            "        function updatePage(page) {\n",
            "            $('#loading').show('fast');\n",
            "            $.get('/api/quotes', {page: page}).done(function(data) {\n",
            "                appendQuotes(data.quotes);\n",
            "                hasNextPage = data.has_next;\n",
            "                $('#loading').hide('fast');\n",
            "            });\n",
            "        }\n",
            "        updatePage(page);\n",
            "        $(window).on('scroll', function(){\n",
            "            var scrollTop = $(window).scrollTop();\n",
            "            var heightDiff = $(document).height() - $(window).height();\n",
            "            if (hasNextPage && Math.abs(scrollTop - heightDiff) <= 1){\n",
            "                page += 1;\n",
            "                console.log('scrolling to page: ' + page);\n",
            "                updatePage(page);\n",
            "            }\n",
            "        });\n",
            "    });\n",
            "</script>\n",
            "\n",
            "    </div>\n",
            "    <footer class=\"footer\">\n",
            "        <div class=\"container\">\n",
            "            <p class=\"text-muted\">\n",
            "                Quotes by: <a href=\"https://www.goodreads.com/quotes\">GoodReads.com</a>\n",
            "            </p>\n",
            "            <p class=\"copyright\">\n",
            "                Made with <span class='zyte'>❤</span> by <a class='zyte' href=\"https://www.zyte.com\">Zyte</a>\n",
            "            </p>\n",
            "        </div>\n",
            "    </footer>\n",
            "</body>\n",
            "</html>\n"
          ]
        }
      ],
      "source": [
        "print(website.text)"
      ]
    },
    {
      "cell_type": "markdown",
      "id": "bd89a070",
      "metadata": {
        "id": "bd89a070"
      },
      "source": [
        "---"
      ]
    },
    {
      "cell_type": "markdown",
      "id": "812a2a46",
      "metadata": {
        "id": "812a2a46"
      },
      "source": [
        "## 1) Dependencias"
      ]
    },
    {
      "cell_type": "markdown",
      "id": "3f94787d",
      "metadata": {
        "id": "3f94787d"
      },
      "source": [
        "- Chrome Driver: https://sites.google.com/chromium.org/driver/downloads"
      ]
    },
    {
      "cell_type": "code",
      "source": [
        "#!wget -O /content/chrome-linux64.zip https://storage.googleapis.com/chrome-for-testing-public/136.0.7103.94/linux64/chrome-linux64.zip"
      ],
      "metadata": {
        "id": "4JPclvaVKdL5",
        "outputId": "2d3c3326-7647-42ca-8229-04bb9e5a8a98",
        "colab": {
          "base_uri": "https://localhost:8080/"
        }
      },
      "id": "4JPclvaVKdL5",
      "execution_count": 12,
      "outputs": [
        {
          "output_type": "stream",
          "name": "stdout",
          "text": [
            "--2025-10-18 02:40:26--  https://storage.googleapis.com/chrome-for-testing-public/136.0.7103.94/linux64/chrome-linux64.zip\n",
            "Resolving storage.googleapis.com (storage.googleapis.com)... 74.125.139.207, 108.177.12.207, 173.194.210.207, ...\n",
            "Connecting to storage.googleapis.com (storage.googleapis.com)|74.125.139.207|:443... connected.\n",
            "HTTP request sent, awaiting response... 200 OK\n",
            "Length: 171296285 (163M) [application/zip]\n",
            "Saving to: ‘/content/chrome-linux64.zip’\n",
            "\n",
            "/content/chrome-lin 100%[===================>] 163.36M  60.2MB/s    in 2.7s    \n",
            "\n",
            "2025-10-18 02:40:28 (60.2 MB/s) - ‘/content/chrome-linux64.zip’ saved [171296285/171296285]\n",
            "\n"
          ]
        }
      ]
    },
    {
      "cell_type": "code",
      "source": [
        "#!unzip -q /content/chrome-linux64.zip -d /content/"
      ],
      "metadata": {
        "id": "UkSYnz_LKpU7"
      },
      "id": "UkSYnz_LKpU7",
      "execution_count": 2,
      "outputs": []
    },
    {
      "cell_type": "code",
      "source": [
        "#!mv /content/chrome-linux64 /content/chrome"
      ],
      "metadata": {
        "id": "TawZzEF3Kzc9"
      },
      "id": "TawZzEF3Kzc9",
      "execution_count": 3,
      "outputs": []
    },
    {
      "cell_type": "code",
      "source": [
        "#!wget -O /content/chromedriver-linux64.zip https://storage.googleapis.com/chrome-for-testing-public/136.0.7103.94/linux64/chromedriver-linux64.zip"
      ],
      "metadata": {
        "id": "pI8ATKuzK4_q",
        "outputId": "7ef71628-c736-438c-fba1-5c1d9f316b30",
        "colab": {
          "base_uri": "https://localhost:8080/"
        }
      },
      "id": "pI8ATKuzK4_q",
      "execution_count": 4,
      "outputs": [
        {
          "output_type": "stream",
          "name": "stdout",
          "text": [
            "--2025-10-18 02:34:59--  https://storage.googleapis.com/chrome-for-testing-public/136.0.7103.94/linux64/chromedriver-linux64.zip\n",
            "Resolving storage.googleapis.com (storage.googleapis.com)... 142.251.107.207, 74.125.196.207, 173.194.216.207, ...\n",
            "Connecting to storage.googleapis.com (storage.googleapis.com)|142.251.107.207|:443... connected.\n",
            "HTTP request sent, awaiting response... 200 OK\n",
            "Length: 9593441 (9.1M) [application/zip]\n",
            "Saving to: ‘/content/chromedriver-linux64.zip’\n",
            "\n",
            "\r          /content/   0%[                    ]       0  --.-KB/s               \r/content/chromedriv 100%[===================>]   9.15M  --.-KB/s    in 0.09s   \n",
            "\n",
            "2025-10-18 02:34:59 (101 MB/s) - ‘/content/chromedriver-linux64.zip’ saved [9593441/9593441]\n",
            "\n"
          ]
        }
      ]
    },
    {
      "cell_type": "code",
      "source": [
        "#!unzip -q /content/chromedriver-linux64.zip -d /content/"
      ],
      "metadata": {
        "id": "_e1Dlt4IK6Zf"
      },
      "id": "_e1Dlt4IK6Zf",
      "execution_count": 5,
      "outputs": []
    },
    {
      "cell_type": "code",
      "source": [
        "#!mv /content/chromedriver-linux64/chromedriver /content/chromedriver"
      ],
      "metadata": {
        "id": "CDRUtLRrLJLD"
      },
      "id": "CDRUtLRrLJLD",
      "execution_count": 6,
      "outputs": []
    },
    {
      "cell_type": "code",
      "source": [
        "#!chmod +x /content/chromedriver"
      ],
      "metadata": {
        "id": "Hh5ZuTQELUuu"
      },
      "id": "Hh5ZuTQELUuu",
      "execution_count": 7,
      "outputs": []
    },
    {
      "cell_type": "code",
      "metadata": {
        "colab": {
          "base_uri": "https://localhost:8080/"
        },
        "id": "f3eee733",
        "outputId": "dc93e81d-4e0b-447c-ca7c-896c8b4b24a6"
      },
      "source": [
        "#!apt-get update && apt-get install -y chromium-driver"
      ],
      "id": "f3eee733",
      "execution_count": 4,
      "outputs": [
        {
          "output_type": "stream",
          "name": "stdout",
          "text": [
            "\r0% [Working]\r            \rHit:1 https://cloud.r-project.org/bin/linux/ubuntu jammy-cran40/ InRelease\n",
            "\r0% [Connecting to archive.ubuntu.com] [Connecting to security.ubuntu.com (91.18\r                                                                               \rHit:2 https://cli.github.com/packages stable InRelease\n",
            "\r0% [Connecting to archive.ubuntu.com (185.125.190.83)] [Waiting for headers] [C\r                                                                               \rHit:3 https://developer.download.nvidia.com/compute/cuda/repos/ubuntu2204/x86_64  InRelease\n",
            "Hit:4 http://security.ubuntu.com/ubuntu jammy-security InRelease\n",
            "Hit:5 https://r2u.stat.illinois.edu/ubuntu jammy InRelease\n",
            "Hit:6 http://archive.ubuntu.com/ubuntu jammy InRelease\n",
            "Hit:7 http://archive.ubuntu.com/ubuntu jammy-updates InRelease\n",
            "Hit:8 https://ppa.launchpadcontent.net/deadsnakes/ppa/ubuntu jammy InRelease\n",
            "Hit:9 http://archive.ubuntu.com/ubuntu jammy-backports InRelease\n",
            "Hit:10 https://ppa.launchpadcontent.net/graphics-drivers/ppa/ubuntu jammy InRelease\n",
            "Hit:11 https://ppa.launchpadcontent.net/ubuntugis/ppa/ubuntu jammy InRelease\n",
            "Reading package lists... Done\n",
            "W: Skipping acquire of configured file 'main/source/Sources' as repository 'https://r2u.stat.illinois.edu/ubuntu jammy InRelease' does not seem to provide it (sources.list entry misspelt?)\n",
            "Reading package lists... Done\n",
            "Building dependency tree... Done\n",
            "Reading state information... Done\n",
            "Note, selecting 'chromium-chromedriver' instead of 'chromium-driver'\n",
            "chromium-chromedriver is already the newest version (1:85.0.4183.83-0ubuntu2.22.04.1).\n",
            "0 upgraded, 0 newly installed, 0 to remove and 38 not upgraded.\n"
          ]
        }
      ]
    },
    {
      "cell_type": "code",
      "execution_count": 13,
      "id": "08947b28",
      "metadata": {
        "colab": {
          "base_uri": "https://localhost:8080/"
        },
        "id": "08947b28",
        "outputId": "f408add3-2489-4b55-9482-d5f4bd8aa158"
      },
      "outputs": [
        {
          "output_type": "stream",
          "name": "stdout",
          "text": [
            "Collecting selenium\n",
            "  Downloading selenium-4.37.0-py3-none-any.whl.metadata (7.5 kB)\n",
            "Collecting webdriver-manager\n",
            "  Downloading webdriver_manager-4.0.2-py2.py3-none-any.whl.metadata (12 kB)\n",
            "Requirement already satisfied: urllib3<3.0,>=2.5.0 in /usr/local/lib/python3.12/dist-packages (from urllib3[socks]<3.0,>=2.5.0->selenium) (2.5.0)\n",
            "Collecting trio<1.0,>=0.31.0 (from selenium)\n",
            "  Downloading trio-0.31.0-py3-none-any.whl.metadata (8.5 kB)\n",
            "Collecting trio-websocket<1.0,>=0.12.2 (from selenium)\n",
            "  Downloading trio_websocket-0.12.2-py3-none-any.whl.metadata (5.1 kB)\n",
            "Requirement already satisfied: certifi>=2025.10.5 in /usr/local/lib/python3.12/dist-packages (from selenium) (2025.10.5)\n",
            "Requirement already satisfied: typing_extensions<5.0,>=4.15.0 in /usr/local/lib/python3.12/dist-packages (from selenium) (4.15.0)\n",
            "Requirement already satisfied: websocket-client<2.0,>=1.8.0 in /usr/local/lib/python3.12/dist-packages (from selenium) (1.9.0)\n",
            "Requirement already satisfied: requests in /usr/local/lib/python3.12/dist-packages (from webdriver-manager) (2.32.4)\n",
            "Requirement already satisfied: python-dotenv in /usr/local/lib/python3.12/dist-packages (from webdriver-manager) (1.1.1)\n",
            "Requirement already satisfied: packaging in /usr/local/lib/python3.12/dist-packages (from webdriver-manager) (25.0)\n",
            "Requirement already satisfied: attrs>=23.2.0 in /usr/local/lib/python3.12/dist-packages (from trio<1.0,>=0.31.0->selenium) (25.4.0)\n",
            "Requirement already satisfied: sortedcontainers in /usr/local/lib/python3.12/dist-packages (from trio<1.0,>=0.31.0->selenium) (2.4.0)\n",
            "Requirement already satisfied: idna in /usr/local/lib/python3.12/dist-packages (from trio<1.0,>=0.31.0->selenium) (3.11)\n",
            "Collecting outcome (from trio<1.0,>=0.31.0->selenium)\n",
            "  Downloading outcome-1.3.0.post0-py2.py3-none-any.whl.metadata (2.6 kB)\n",
            "Requirement already satisfied: sniffio>=1.3.0 in /usr/local/lib/python3.12/dist-packages (from trio<1.0,>=0.31.0->selenium) (1.3.1)\n",
            "Collecting wsproto>=0.14 (from trio-websocket<1.0,>=0.12.2->selenium)\n",
            "  Downloading wsproto-1.2.0-py3-none-any.whl.metadata (5.6 kB)\n",
            "Requirement already satisfied: pysocks!=1.5.7,<2.0,>=1.5.6 in /usr/local/lib/python3.12/dist-packages (from urllib3[socks]<3.0,>=2.5.0->selenium) (1.7.1)\n",
            "Requirement already satisfied: charset_normalizer<4,>=2 in /usr/local/lib/python3.12/dist-packages (from requests->webdriver-manager) (3.4.4)\n",
            "Requirement already satisfied: h11<1,>=0.9.0 in /usr/local/lib/python3.12/dist-packages (from wsproto>=0.14->trio-websocket<1.0,>=0.12.2->selenium) (0.16.0)\n",
            "Downloading selenium-4.37.0-py3-none-any.whl (9.7 MB)\n",
            "\u001b[2K   \u001b[90m━━━━━━━━━━━━━━━━━━━━━━━━━━━━━━━━━━━━━━━━\u001b[0m \u001b[32m9.7/9.7 MB\u001b[0m \u001b[31m67.3 MB/s\u001b[0m eta \u001b[36m0:00:00\u001b[0m\n",
            "\u001b[?25hDownloading webdriver_manager-4.0.2-py2.py3-none-any.whl (27 kB)\n",
            "Downloading trio-0.31.0-py3-none-any.whl (512 kB)\n",
            "\u001b[2K   \u001b[90m━━━━━━━━━━━━━━━━━━━━━━━━━━━━━━━━━━━━━━━━\u001b[0m \u001b[32m512.7/512.7 kB\u001b[0m \u001b[31m36.6 MB/s\u001b[0m eta \u001b[36m0:00:00\u001b[0m\n",
            "\u001b[?25hDownloading trio_websocket-0.12.2-py3-none-any.whl (21 kB)\n",
            "Downloading outcome-1.3.0.post0-py2.py3-none-any.whl (10 kB)\n",
            "Downloading wsproto-1.2.0-py3-none-any.whl (24 kB)\n",
            "Installing collected packages: wsproto, outcome, webdriver-manager, trio, trio-websocket, selenium\n",
            "Successfully installed outcome-1.3.0.post0 selenium-4.37.0 trio-0.31.0 trio-websocket-0.12.2 webdriver-manager-4.0.2 wsproto-1.2.0\n"
          ]
        }
      ],
      "source": [
        "!pip install selenium webdriver-manager"
      ]
    },
    {
      "cell_type": "code",
      "execution_count": 14,
      "id": "b26177a4",
      "metadata": {
        "id": "b26177a4"
      },
      "outputs": [],
      "source": [
        "import time\n",
        "from bs4 import BeautifulSoup\n",
        "\n",
        "from selenium import webdriver\n",
        "from selenium.webdriver.chrome.service import Service"
      ]
    },
    {
      "cell_type": "markdown",
      "id": "8d8624e8",
      "metadata": {
        "id": "8d8624e8"
      },
      "source": [
        "## 2) Configuración del Servicio y Driver"
      ]
    },
    {
      "cell_type": "code",
      "metadata": {
        "id": "fc2c39f4"
      },
      "source": [
        "from selenium.webdriver.chrome.options import Options\n",
        "\n",
        "chrome_path = \"/content/chrome/chrome\"\n",
        "chromedriver_path = \"/content/chromedriver\"\n",
        "\n",
        "# Setup Chrome options\n",
        "chrome_options = Options()\n",
        "chrome_options.add_argument(\"--headless\")  # Run in headless mode\n",
        "chrome_options.add_argument(\"--no-sandbox\") # Bypass OS security model\n",
        "chrome_options.add_argument(\"--disable-dev-shm-usage\") # Overcome limited resource problems\n",
        "\n",
        "chrome_options.binary_location = chrome_path\n",
        "\n",
        "# Set path to chromedriver (usually in /usr/lib/chromium-browser/chromedriver)\n",
        "service = Service(executable_path=chromedriver_path)\n",
        "\n",
        "# Create a new Chrome driver instance\n",
        "driver = webdriver.Chrome(service=service, options=chrome_options)\n",
        "\n",
        "# print(\"Chrome Driver initialized successfully.\")"
      ],
      "id": "fc2c39f4",
      "execution_count": 15,
      "outputs": []
    },
    {
      "cell_type": "markdown",
      "id": "9ce50cc1",
      "metadata": {
        "id": "9ce50cc1"
      },
      "source": [
        "## 3) Definir url"
      ]
    },
    {
      "cell_type": "code",
      "execution_count": 16,
      "id": "22b74aa1",
      "metadata": {
        "id": "22b74aa1"
      },
      "outputs": [],
      "source": [
        "# Abrir un sitio dinámico de práctica\n",
        "url = \"http://quotes.toscrape.com/scroll\"\n",
        "driver.get(url)\n",
        "\n",
        "# Espera a que se cargue el contenido dinámico\n",
        "time.sleep(3)"
      ]
    },
    {
      "cell_type": "markdown",
      "id": "401fdaf8",
      "metadata": {
        "id": "401fdaf8"
      },
      "source": [
        "## 4) Manipular HTML Renderizado"
      ]
    },
    {
      "cell_type": "code",
      "execution_count": 17,
      "id": "297887d4",
      "metadata": {
        "colab": {
          "base_uri": "https://localhost:8080/"
        },
        "id": "297887d4",
        "outputId": "919e7df5-1d9b-431a-b13c-45cf06174bc1"
      },
      "outputs": [
        {
          "output_type": "stream",
          "name": "stdout",
          "text": [
            "Citas encontradas: 10\n",
            "“The world as we have created it is a process of our thinking. It cannot be changed without changing our thinking.” - Albert Einstein\n",
            "“It is our choices, Harry, that show what we truly are, far more than our abilities.” - J.K. Rowling\n",
            "“There are only two ways to live your life. One is as though nothing is a miracle. The other is as though everything is a miracle.” - Albert Einstein\n",
            "“The person, be it gentleman or lady, who has not pleasure in a good novel, must be intolerably stupid.” - Jane Austen\n",
            "“Imperfection is beauty, madness is genius and it's better to be absolutely ridiculous than absolutely boring.” - Marilyn Monroe\n",
            "“Try not to become a man of success. Rather become a man of value.” - Albert Einstein\n",
            "“It is better to be hated for what you are than to be loved for what you are not.” - André Gide\n",
            "“I have not failed. I've just found 10,000 ways that won't work.” - Thomas A. Edison\n",
            "“A woman is like a tea bag; you never know how strong it is until it's in hot water.” - Eleanor Roosevelt\n",
            "“A day without sunshine is like, you know, night.” - Steve Martin\n"
          ]
        }
      ],
      "source": [
        "# Obtener el HTML renderizado\n",
        "html = driver.page_source\n",
        "driver.quit()\n",
        "\n",
        "# Procesar el HTML con BeautifulSoup\n",
        "soup = BeautifulSoup(html, \"html.parser\")\n",
        "quotes = soup.select(\"div.quote\")\n",
        "\n",
        "print(\"Citas encontradas:\", len(quotes))\n",
        "for quote in quotes:\n",
        "    text = quote.find(\"span\", class_=\"text\").get_text()\n",
        "    author = quote.find(\"small\", class_=\"author\").get_text()\n",
        "    print(f\"{text} - {author}\")"
      ]
    }
  ],
  "metadata": {
    "kernelspec": {
      "display_name": "Python 3",
      "language": "python",
      "name": "python3"
    },
    "language_info": {
      "codemirror_mode": {
        "name": "ipython",
        "version": 3
      },
      "file_extension": ".py",
      "mimetype": "text/x-python",
      "name": "python",
      "nbconvert_exporter": "python",
      "pygments_lexer": "ipython3",
      "version": "3.10.0"
    },
    "colab": {
      "provenance": []
    }
  },
  "nbformat": 4,
  "nbformat_minor": 5
}